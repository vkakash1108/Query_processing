{
  "nbformat": 4,
  "nbformat_minor": 0,
  "metadata": {
    "colab": {
      "provenance": []
    },
    "kernelspec": {
      "name": "python3",
      "display_name": "Python 3"
    },
    "language_info": {
      "name": "python"
    }
  },
  "cells": [
    {
      "cell_type": "code",
      "execution_count": 1,
      "metadata": {
        "colab": {
          "base_uri": "https://localhost:8080/"
        },
        "id": "nC3y6r6VkMBx",
        "outputId": "b82b9cfe-511f-4629-d642-99e8f68e969c"
      },
      "outputs": [
        {
          "output_type": "stream",
          "name": "stdout",
          "text": [
            "Mounted at /content/drive\n"
          ]
        }
      ],
      "source": [
        "from google.colab import drive\n",
        "drive.mount('/content/drive')"
      ]
    },
    {
      "cell_type": "markdown",
      "source": [
        "#**9.Write a Pandas program to create a Pivot table and find the total sale amount region wise, manager wise, sales man wise. .(refer sales_data table)**"
      ],
      "metadata": {
        "id": "84ezmW6OCo9s"
      }
    },
    {
      "cell_type": "code",
      "source": [
        "import pandas as pd\n",
        "import numpy as np\n",
        "df = pd.read_csv('/content/drive/MyDrive/Query datasets/salespivot.csv')\n",
        "region_pivot = pd.pivot_table(df , values='Sale_amt', index='Region', aggfunc='sum')\n",
        "manager_pivot = pd.pivot_table(df , values='Sale_amt', index='Manager', aggfunc='sum')\n",
        "salesperson_pivot = pd.pivot_table(df, values='Sale_amt', index='SalesMan', aggfunc='sum')\n",
        "print(\"Total Sale Amount Region-wise:\\n\", region_pivot)\n",
        "print(\"\\nTotal Sale Amount Manager-wise:\\n\", manager_pivot)\n",
        "print(\"\\nTotal Sale Amount Salesperson-wise:\\n\", salesperson_pivot)\n"
      ],
      "metadata": {
        "colab": {
          "base_uri": "https://localhost:8080/"
        },
        "id": "1dv6odNclhYt",
        "outputId": "8276ae62-678d-43be-b93a-1943ffc5ec8d"
      },
      "execution_count": 2,
      "outputs": [
        {
          "output_type": "stream",
          "name": "stdout",
          "text": [
            "Total Sale Amount Region-wise:\n",
            "          Sale_amt\n",
            "Region           \n",
            "Central  343239.0\n",
            "East     169460.0\n",
            "West     105424.0\n",
            "\n",
            "Total Sale Amount Manager-wise:\n",
            "          Sale_amt\n",
            "Manager          \n",
            "Douglas   78836.0\n",
            "Hermann  204698.0\n",
            "Martha   261426.0\n",
            "Timothy   73163.0\n",
            "\n",
            "Total Sale Amount Salesperson-wise:\n",
            "            Sale_amt\n",
            "SalesMan           \n",
            "Alexander  131076.0\n",
            "David        6075.0\n",
            "Diana       40500.0\n",
            "Karen       40500.0\n",
            "Luis       150948.0\n",
            "Michael     38336.0\n",
            "Shelli      25000.0\n",
            "Sigal       28750.0\n",
            "Stephen     67088.0\n",
            "Steven      89850.0\n"
          ]
        }
      ]
    },
    {
      "cell_type": "markdown",
      "source": [
        "#**10.Create a dataframe of ten rows, four columns with random values. Write a Pandas program to highlight the negative numbers red and positive numbers black.**"
      ],
      "metadata": {
        "id": "jfkTH8pcCijF"
      }
    },
    {
      "cell_type": "code",
      "source": [
        "import pandas as pd\n",
        "import numpy as np\n",
        "data = np.random.randn(10, 4)\n",
        "df = pd.DataFrame(data, columns=['A', 'B', 'C', 'D'])\n",
        "def color_negative_red(val):\n",
        "    color = 'red' if val < 0 else 'black'\n",
        "    return f'color: {color}'\n",
        "styled_df = df.style.applymap(color_negative_red)\n",
        "styled_df\n"
      ],
      "metadata": {
        "colab": {
          "base_uri": "https://localhost:8080/",
          "height": 363
        },
        "id": "12fg7DjY_2WS",
        "outputId": "31a60287-d475-4c5f-b7b8-211455012d7e"
      },
      "execution_count": 3,
      "outputs": [
        {
          "output_type": "execute_result",
          "data": {
            "text/plain": [
              "<pandas.io.formats.style.Styler at 0x7e43cbdcbd30>"
            ],
            "text/html": [
              "<style type=\"text/css\">\n",
              "#T_502d0_row0_col0, #T_502d0_row1_col1, #T_502d0_row1_col2, #T_502d0_row1_col3, #T_502d0_row2_col2, #T_502d0_row4_col0, #T_502d0_row5_col3, #T_502d0_row6_col2, #T_502d0_row7_col0, #T_502d0_row7_col1, #T_502d0_row7_col2, #T_502d0_row7_col3, #T_502d0_row8_col0, #T_502d0_row8_col2 {\n",
              "  color: black;\n",
              "}\n",
              "#T_502d0_row0_col1, #T_502d0_row0_col2, #T_502d0_row0_col3, #T_502d0_row1_col0, #T_502d0_row2_col0, #T_502d0_row2_col1, #T_502d0_row2_col3, #T_502d0_row3_col0, #T_502d0_row3_col1, #T_502d0_row3_col2, #T_502d0_row3_col3, #T_502d0_row4_col1, #T_502d0_row4_col2, #T_502d0_row4_col3, #T_502d0_row5_col0, #T_502d0_row5_col1, #T_502d0_row5_col2, #T_502d0_row6_col0, #T_502d0_row6_col1, #T_502d0_row6_col3, #T_502d0_row8_col1, #T_502d0_row8_col3, #T_502d0_row9_col0, #T_502d0_row9_col1, #T_502d0_row9_col2, #T_502d0_row9_col3 {\n",
              "  color: red;\n",
              "}\n",
              "</style>\n",
              "<table id=\"T_502d0\" class=\"dataframe\">\n",
              "  <thead>\n",
              "    <tr>\n",
              "      <th class=\"blank level0\" >&nbsp;</th>\n",
              "      <th id=\"T_502d0_level0_col0\" class=\"col_heading level0 col0\" >A</th>\n",
              "      <th id=\"T_502d0_level0_col1\" class=\"col_heading level0 col1\" >B</th>\n",
              "      <th id=\"T_502d0_level0_col2\" class=\"col_heading level0 col2\" >C</th>\n",
              "      <th id=\"T_502d0_level0_col3\" class=\"col_heading level0 col3\" >D</th>\n",
              "    </tr>\n",
              "  </thead>\n",
              "  <tbody>\n",
              "    <tr>\n",
              "      <th id=\"T_502d0_level0_row0\" class=\"row_heading level0 row0\" >0</th>\n",
              "      <td id=\"T_502d0_row0_col0\" class=\"data row0 col0\" >0.806518</td>\n",
              "      <td id=\"T_502d0_row0_col1\" class=\"data row0 col1\" >-1.782831</td>\n",
              "      <td id=\"T_502d0_row0_col2\" class=\"data row0 col2\" >-0.232194</td>\n",
              "      <td id=\"T_502d0_row0_col3\" class=\"data row0 col3\" >-1.003476</td>\n",
              "    </tr>\n",
              "    <tr>\n",
              "      <th id=\"T_502d0_level0_row1\" class=\"row_heading level0 row1\" >1</th>\n",
              "      <td id=\"T_502d0_row1_col0\" class=\"data row1 col0\" >-0.796101</td>\n",
              "      <td id=\"T_502d0_row1_col1\" class=\"data row1 col1\" >0.788728</td>\n",
              "      <td id=\"T_502d0_row1_col2\" class=\"data row1 col2\" >1.291733</td>\n",
              "      <td id=\"T_502d0_row1_col3\" class=\"data row1 col3\" >1.757696</td>\n",
              "    </tr>\n",
              "    <tr>\n",
              "      <th id=\"T_502d0_level0_row2\" class=\"row_heading level0 row2\" >2</th>\n",
              "      <td id=\"T_502d0_row2_col0\" class=\"data row2 col0\" >-0.815890</td>\n",
              "      <td id=\"T_502d0_row2_col1\" class=\"data row2 col1\" >-0.341975</td>\n",
              "      <td id=\"T_502d0_row2_col2\" class=\"data row2 col2\" >0.028562</td>\n",
              "      <td id=\"T_502d0_row2_col3\" class=\"data row2 col3\" >-1.354616</td>\n",
              "    </tr>\n",
              "    <tr>\n",
              "      <th id=\"T_502d0_level0_row3\" class=\"row_heading level0 row3\" >3</th>\n",
              "      <td id=\"T_502d0_row3_col0\" class=\"data row3 col0\" >-1.046654</td>\n",
              "      <td id=\"T_502d0_row3_col1\" class=\"data row3 col1\" >-0.840460</td>\n",
              "      <td id=\"T_502d0_row3_col2\" class=\"data row3 col2\" >-1.523997</td>\n",
              "      <td id=\"T_502d0_row3_col3\" class=\"data row3 col3\" >-0.180470</td>\n",
              "    </tr>\n",
              "    <tr>\n",
              "      <th id=\"T_502d0_level0_row4\" class=\"row_heading level0 row4\" >4</th>\n",
              "      <td id=\"T_502d0_row4_col0\" class=\"data row4 col0\" >0.785542</td>\n",
              "      <td id=\"T_502d0_row4_col1\" class=\"data row4 col1\" >-0.555843</td>\n",
              "      <td id=\"T_502d0_row4_col2\" class=\"data row4 col2\" >-0.820177</td>\n",
              "      <td id=\"T_502d0_row4_col3\" class=\"data row4 col3\" >-1.295845</td>\n",
              "    </tr>\n",
              "    <tr>\n",
              "      <th id=\"T_502d0_level0_row5\" class=\"row_heading level0 row5\" >5</th>\n",
              "      <td id=\"T_502d0_row5_col0\" class=\"data row5 col0\" >-0.090948</td>\n",
              "      <td id=\"T_502d0_row5_col1\" class=\"data row5 col1\" >-2.786659</td>\n",
              "      <td id=\"T_502d0_row5_col2\" class=\"data row5 col2\" >-0.606423</td>\n",
              "      <td id=\"T_502d0_row5_col3\" class=\"data row5 col3\" >0.072820</td>\n",
              "    </tr>\n",
              "    <tr>\n",
              "      <th id=\"T_502d0_level0_row6\" class=\"row_heading level0 row6\" >6</th>\n",
              "      <td id=\"T_502d0_row6_col0\" class=\"data row6 col0\" >-1.015860</td>\n",
              "      <td id=\"T_502d0_row6_col1\" class=\"data row6 col1\" >-0.835363</td>\n",
              "      <td id=\"T_502d0_row6_col2\" class=\"data row6 col2\" >0.108706</td>\n",
              "      <td id=\"T_502d0_row6_col3\" class=\"data row6 col3\" >-0.150335</td>\n",
              "    </tr>\n",
              "    <tr>\n",
              "      <th id=\"T_502d0_level0_row7\" class=\"row_heading level0 row7\" >7</th>\n",
              "      <td id=\"T_502d0_row7_col0\" class=\"data row7 col0\" >0.830984</td>\n",
              "      <td id=\"T_502d0_row7_col1\" class=\"data row7 col1\" >1.025222</td>\n",
              "      <td id=\"T_502d0_row7_col2\" class=\"data row7 col2\" >1.165774</td>\n",
              "      <td id=\"T_502d0_row7_col3\" class=\"data row7 col3\" >1.708462</td>\n",
              "    </tr>\n",
              "    <tr>\n",
              "      <th id=\"T_502d0_level0_row8\" class=\"row_heading level0 row8\" >8</th>\n",
              "      <td id=\"T_502d0_row8_col0\" class=\"data row8 col0\" >1.251461</td>\n",
              "      <td id=\"T_502d0_row8_col1\" class=\"data row8 col1\" >-1.611826</td>\n",
              "      <td id=\"T_502d0_row8_col2\" class=\"data row8 col2\" >0.003076</td>\n",
              "      <td id=\"T_502d0_row8_col3\" class=\"data row8 col3\" >-0.269812</td>\n",
              "    </tr>\n",
              "    <tr>\n",
              "      <th id=\"T_502d0_level0_row9\" class=\"row_heading level0 row9\" >9</th>\n",
              "      <td id=\"T_502d0_row9_col0\" class=\"data row9 col0\" >-1.107128</td>\n",
              "      <td id=\"T_502d0_row9_col1\" class=\"data row9 col1\" >-0.399036</td>\n",
              "      <td id=\"T_502d0_row9_col2\" class=\"data row9 col2\" >-1.474050</td>\n",
              "      <td id=\"T_502d0_row9_col3\" class=\"data row9 col3\" >-1.340151</td>\n",
              "    </tr>\n",
              "  </tbody>\n",
              "</table>\n"
            ]
          },
          "metadata": {},
          "execution_count": 3
        }
      ]
    },
    {
      "cell_type": "markdown",
      "source": [
        "#**11.Create a dataframe of ten rows, four columns with random values. Convert some values to nan values. Write a Pandas program which will highlight the nan values.**"
      ],
      "metadata": {
        "id": "4K06joGOCc_4"
      }
    },
    {
      "cell_type": "code",
      "source": [
        "import pandas as pd\n",
        "import numpy as np\n",
        "data = np.random.randn(10, 4)\n",
        "df = pd.DataFrame(data, columns=['A', 'B', 'C', 'D'])\n",
        "df.loc[[2, 4, 6 ,8], 'B'] = np.nan\n",
        "def highlight_nan(val):\n",
        "    return 'background-color: yellow' if pd.isna(val) else ''\n",
        "styled_df = df.style.applymap(highlight_nan)\n",
        "styled_df\n"
      ],
      "metadata": {
        "colab": {
          "base_uri": "https://localhost:8080/",
          "height": 363
        },
        "id": "XGCes7Z7_6NT",
        "outputId": "b53147a7-f260-4345-8da3-fdb629d32379"
      },
      "execution_count": 10,
      "outputs": [
        {
          "output_type": "execute_result",
          "data": {
            "text/plain": [
              "<pandas.io.formats.style.Styler at 0x7e43d6cd2ad0>"
            ],
            "text/html": [
              "<style type=\"text/css\">\n",
              "#T_a7436_row2_col1, #T_a7436_row4_col1, #T_a7436_row6_col1, #T_a7436_row8_col1 {\n",
              "  background-color: yellow;\n",
              "}\n",
              "</style>\n",
              "<table id=\"T_a7436\" class=\"dataframe\">\n",
              "  <thead>\n",
              "    <tr>\n",
              "      <th class=\"blank level0\" >&nbsp;</th>\n",
              "      <th id=\"T_a7436_level0_col0\" class=\"col_heading level0 col0\" >A</th>\n",
              "      <th id=\"T_a7436_level0_col1\" class=\"col_heading level0 col1\" >B</th>\n",
              "      <th id=\"T_a7436_level0_col2\" class=\"col_heading level0 col2\" >C</th>\n",
              "      <th id=\"T_a7436_level0_col3\" class=\"col_heading level0 col3\" >D</th>\n",
              "    </tr>\n",
              "  </thead>\n",
              "  <tbody>\n",
              "    <tr>\n",
              "      <th id=\"T_a7436_level0_row0\" class=\"row_heading level0 row0\" >0</th>\n",
              "      <td id=\"T_a7436_row0_col0\" class=\"data row0 col0\" >0.964860</td>\n",
              "      <td id=\"T_a7436_row0_col1\" class=\"data row0 col1\" >-0.114740</td>\n",
              "      <td id=\"T_a7436_row0_col2\" class=\"data row0 col2\" >0.062759</td>\n",
              "      <td id=\"T_a7436_row0_col3\" class=\"data row0 col3\" >0.157669</td>\n",
              "    </tr>\n",
              "    <tr>\n",
              "      <th id=\"T_a7436_level0_row1\" class=\"row_heading level0 row1\" >1</th>\n",
              "      <td id=\"T_a7436_row1_col0\" class=\"data row1 col0\" >-0.476001</td>\n",
              "      <td id=\"T_a7436_row1_col1\" class=\"data row1 col1\" >-0.138501</td>\n",
              "      <td id=\"T_a7436_row1_col2\" class=\"data row1 col2\" >-1.103533</td>\n",
              "      <td id=\"T_a7436_row1_col3\" class=\"data row1 col3\" >-0.553349</td>\n",
              "    </tr>\n",
              "    <tr>\n",
              "      <th id=\"T_a7436_level0_row2\" class=\"row_heading level0 row2\" >2</th>\n",
              "      <td id=\"T_a7436_row2_col0\" class=\"data row2 col0\" >-1.123844</td>\n",
              "      <td id=\"T_a7436_row2_col1\" class=\"data row2 col1\" >nan</td>\n",
              "      <td id=\"T_a7436_row2_col2\" class=\"data row2 col2\" >-1.479008</td>\n",
              "      <td id=\"T_a7436_row2_col3\" class=\"data row2 col3\" >0.029554</td>\n",
              "    </tr>\n",
              "    <tr>\n",
              "      <th id=\"T_a7436_level0_row3\" class=\"row_heading level0 row3\" >3</th>\n",
              "      <td id=\"T_a7436_row3_col0\" class=\"data row3 col0\" >-0.069031</td>\n",
              "      <td id=\"T_a7436_row3_col1\" class=\"data row3 col1\" >0.926167</td>\n",
              "      <td id=\"T_a7436_row3_col2\" class=\"data row3 col2\" >0.566891</td>\n",
              "      <td id=\"T_a7436_row3_col3\" class=\"data row3 col3\" >-0.021773</td>\n",
              "    </tr>\n",
              "    <tr>\n",
              "      <th id=\"T_a7436_level0_row4\" class=\"row_heading level0 row4\" >4</th>\n",
              "      <td id=\"T_a7436_row4_col0\" class=\"data row4 col0\" >0.340710</td>\n",
              "      <td id=\"T_a7436_row4_col1\" class=\"data row4 col1\" >nan</td>\n",
              "      <td id=\"T_a7436_row4_col2\" class=\"data row4 col2\" >-0.437151</td>\n",
              "      <td id=\"T_a7436_row4_col3\" class=\"data row4 col3\" >1.632636</td>\n",
              "    </tr>\n",
              "    <tr>\n",
              "      <th id=\"T_a7436_level0_row5\" class=\"row_heading level0 row5\" >5</th>\n",
              "      <td id=\"T_a7436_row5_col0\" class=\"data row5 col0\" >-0.610389</td>\n",
              "      <td id=\"T_a7436_row5_col1\" class=\"data row5 col1\" >1.139785</td>\n",
              "      <td id=\"T_a7436_row5_col2\" class=\"data row5 col2\" >-1.605108</td>\n",
              "      <td id=\"T_a7436_row5_col3\" class=\"data row5 col3\" >0.374200</td>\n",
              "    </tr>\n",
              "    <tr>\n",
              "      <th id=\"T_a7436_level0_row6\" class=\"row_heading level0 row6\" >6</th>\n",
              "      <td id=\"T_a7436_row6_col0\" class=\"data row6 col0\" >1.306448</td>\n",
              "      <td id=\"T_a7436_row6_col1\" class=\"data row6 col1\" >nan</td>\n",
              "      <td id=\"T_a7436_row6_col2\" class=\"data row6 col2\" >0.295036</td>\n",
              "      <td id=\"T_a7436_row6_col3\" class=\"data row6 col3\" >-1.039882</td>\n",
              "    </tr>\n",
              "    <tr>\n",
              "      <th id=\"T_a7436_level0_row7\" class=\"row_heading level0 row7\" >7</th>\n",
              "      <td id=\"T_a7436_row7_col0\" class=\"data row7 col0\" >1.228506</td>\n",
              "      <td id=\"T_a7436_row7_col1\" class=\"data row7 col1\" >0.897443</td>\n",
              "      <td id=\"T_a7436_row7_col2\" class=\"data row7 col2\" >1.679461</td>\n",
              "      <td id=\"T_a7436_row7_col3\" class=\"data row7 col3\" >-0.044963</td>\n",
              "    </tr>\n",
              "    <tr>\n",
              "      <th id=\"T_a7436_level0_row8\" class=\"row_heading level0 row8\" >8</th>\n",
              "      <td id=\"T_a7436_row8_col0\" class=\"data row8 col0\" >-0.479060</td>\n",
              "      <td id=\"T_a7436_row8_col1\" class=\"data row8 col1\" >nan</td>\n",
              "      <td id=\"T_a7436_row8_col2\" class=\"data row8 col2\" >-1.026281</td>\n",
              "      <td id=\"T_a7436_row8_col3\" class=\"data row8 col3\" >-1.173323</td>\n",
              "    </tr>\n",
              "    <tr>\n",
              "      <th id=\"T_a7436_level0_row9\" class=\"row_heading level0 row9\" >9</th>\n",
              "      <td id=\"T_a7436_row9_col0\" class=\"data row9 col0\" >1.434825</td>\n",
              "      <td id=\"T_a7436_row9_col1\" class=\"data row9 col1\" >-1.647474</td>\n",
              "      <td id=\"T_a7436_row9_col2\" class=\"data row9 col2\" >-0.229089</td>\n",
              "      <td id=\"T_a7436_row9_col3\" class=\"data row9 col3\" >-0.727899</td>\n",
              "    </tr>\n",
              "  </tbody>\n",
              "</table>\n"
            ]
          },
          "metadata": {},
          "execution_count": 10
        }
      ]
    },
    {
      "cell_type": "markdown",
      "source": [
        "#**12.Create a dataframe of ten rows, four columns with random values. Write a Pandas program to set dataframe background Color black and font color yellow.**"
      ],
      "metadata": {
        "id": "U3vWi0AaCMfv"
      }
    },
    {
      "cell_type": "code",
      "source": [
        "import pandas as pd\n",
        "import numpy as np\n",
        "data = np.random.randn(10, 4)\n",
        "df = pd.DataFrame(data, columns=['A', 'B', 'C', 'D'])\n",
        "styled_df = df.style.set_properties(**{'background-color': 'black', 'color': 'yellow'})\n",
        "styled_df\n"
      ],
      "metadata": {
        "colab": {
          "base_uri": "https://localhost:8080/",
          "height": 363
        },
        "id": "AwNy_VclADHm",
        "outputId": "38af0211-722b-4cf5-bb7b-6bcb6a72f4ae"
      },
      "execution_count": 5,
      "outputs": [
        {
          "output_type": "execute_result",
          "data": {
            "text/plain": [
              "<pandas.io.formats.style.Styler at 0x7e43d6cd2e90>"
            ],
            "text/html": [
              "<style type=\"text/css\">\n",
              "#T_97502_row0_col0, #T_97502_row0_col1, #T_97502_row0_col2, #T_97502_row0_col3, #T_97502_row1_col0, #T_97502_row1_col1, #T_97502_row1_col2, #T_97502_row1_col3, #T_97502_row2_col0, #T_97502_row2_col1, #T_97502_row2_col2, #T_97502_row2_col3, #T_97502_row3_col0, #T_97502_row3_col1, #T_97502_row3_col2, #T_97502_row3_col3, #T_97502_row4_col0, #T_97502_row4_col1, #T_97502_row4_col2, #T_97502_row4_col3, #T_97502_row5_col0, #T_97502_row5_col1, #T_97502_row5_col2, #T_97502_row5_col3, #T_97502_row6_col0, #T_97502_row6_col1, #T_97502_row6_col2, #T_97502_row6_col3, #T_97502_row7_col0, #T_97502_row7_col1, #T_97502_row7_col2, #T_97502_row7_col3, #T_97502_row8_col0, #T_97502_row8_col1, #T_97502_row8_col2, #T_97502_row8_col3, #T_97502_row9_col0, #T_97502_row9_col1, #T_97502_row9_col2, #T_97502_row9_col3 {\n",
              "  background-color: black;\n",
              "  color: yellow;\n",
              "}\n",
              "</style>\n",
              "<table id=\"T_97502\" class=\"dataframe\">\n",
              "  <thead>\n",
              "    <tr>\n",
              "      <th class=\"blank level0\" >&nbsp;</th>\n",
              "      <th id=\"T_97502_level0_col0\" class=\"col_heading level0 col0\" >A</th>\n",
              "      <th id=\"T_97502_level0_col1\" class=\"col_heading level0 col1\" >B</th>\n",
              "      <th id=\"T_97502_level0_col2\" class=\"col_heading level0 col2\" >C</th>\n",
              "      <th id=\"T_97502_level0_col3\" class=\"col_heading level0 col3\" >D</th>\n",
              "    </tr>\n",
              "  </thead>\n",
              "  <tbody>\n",
              "    <tr>\n",
              "      <th id=\"T_97502_level0_row0\" class=\"row_heading level0 row0\" >0</th>\n",
              "      <td id=\"T_97502_row0_col0\" class=\"data row0 col0\" >-0.354197</td>\n",
              "      <td id=\"T_97502_row0_col1\" class=\"data row0 col1\" >-1.282627</td>\n",
              "      <td id=\"T_97502_row0_col2\" class=\"data row0 col2\" >-0.224236</td>\n",
              "      <td id=\"T_97502_row0_col3\" class=\"data row0 col3\" >0.520710</td>\n",
              "    </tr>\n",
              "    <tr>\n",
              "      <th id=\"T_97502_level0_row1\" class=\"row_heading level0 row1\" >1</th>\n",
              "      <td id=\"T_97502_row1_col0\" class=\"data row1 col0\" >0.249496</td>\n",
              "      <td id=\"T_97502_row1_col1\" class=\"data row1 col1\" >0.979349</td>\n",
              "      <td id=\"T_97502_row1_col2\" class=\"data row1 col2\" >-0.350792</td>\n",
              "      <td id=\"T_97502_row1_col3\" class=\"data row1 col3\" >-1.229947</td>\n",
              "    </tr>\n",
              "    <tr>\n",
              "      <th id=\"T_97502_level0_row2\" class=\"row_heading level0 row2\" >2</th>\n",
              "      <td id=\"T_97502_row2_col0\" class=\"data row2 col0\" >1.236137</td>\n",
              "      <td id=\"T_97502_row2_col1\" class=\"data row2 col1\" >-1.755609</td>\n",
              "      <td id=\"T_97502_row2_col2\" class=\"data row2 col2\" >0.042491</td>\n",
              "      <td id=\"T_97502_row2_col3\" class=\"data row2 col3\" >-0.449462</td>\n",
              "    </tr>\n",
              "    <tr>\n",
              "      <th id=\"T_97502_level0_row3\" class=\"row_heading level0 row3\" >3</th>\n",
              "      <td id=\"T_97502_row3_col0\" class=\"data row3 col0\" >-0.593680</td>\n",
              "      <td id=\"T_97502_row3_col1\" class=\"data row3 col1\" >-0.711039</td>\n",
              "      <td id=\"T_97502_row3_col2\" class=\"data row3 col2\" >-0.531772</td>\n",
              "      <td id=\"T_97502_row3_col3\" class=\"data row3 col3\" >0.100722</td>\n",
              "    </tr>\n",
              "    <tr>\n",
              "      <th id=\"T_97502_level0_row4\" class=\"row_heading level0 row4\" >4</th>\n",
              "      <td id=\"T_97502_row4_col0\" class=\"data row4 col0\" >-0.041559</td>\n",
              "      <td id=\"T_97502_row4_col1\" class=\"data row4 col1\" >1.529835</td>\n",
              "      <td id=\"T_97502_row4_col2\" class=\"data row4 col2\" >1.256439</td>\n",
              "      <td id=\"T_97502_row4_col3\" class=\"data row4 col3\" >-2.150951</td>\n",
              "    </tr>\n",
              "    <tr>\n",
              "      <th id=\"T_97502_level0_row5\" class=\"row_heading level0 row5\" >5</th>\n",
              "      <td id=\"T_97502_row5_col0\" class=\"data row5 col0\" >0.442209</td>\n",
              "      <td id=\"T_97502_row5_col1\" class=\"data row5 col1\" >0.773469</td>\n",
              "      <td id=\"T_97502_row5_col2\" class=\"data row5 col2\" >0.068448</td>\n",
              "      <td id=\"T_97502_row5_col3\" class=\"data row5 col3\" >0.088438</td>\n",
              "    </tr>\n",
              "    <tr>\n",
              "      <th id=\"T_97502_level0_row6\" class=\"row_heading level0 row6\" >6</th>\n",
              "      <td id=\"T_97502_row6_col0\" class=\"data row6 col0\" >0.101100</td>\n",
              "      <td id=\"T_97502_row6_col1\" class=\"data row6 col1\" >1.736197</td>\n",
              "      <td id=\"T_97502_row6_col2\" class=\"data row6 col2\" >-1.143640</td>\n",
              "      <td id=\"T_97502_row6_col3\" class=\"data row6 col3\" >1.969980</td>\n",
              "    </tr>\n",
              "    <tr>\n",
              "      <th id=\"T_97502_level0_row7\" class=\"row_heading level0 row7\" >7</th>\n",
              "      <td id=\"T_97502_row7_col0\" class=\"data row7 col0\" >1.078593</td>\n",
              "      <td id=\"T_97502_row7_col1\" class=\"data row7 col1\" >1.303626</td>\n",
              "      <td id=\"T_97502_row7_col2\" class=\"data row7 col2\" >2.163011</td>\n",
              "      <td id=\"T_97502_row7_col3\" class=\"data row7 col3\" >-1.446359</td>\n",
              "    </tr>\n",
              "    <tr>\n",
              "      <th id=\"T_97502_level0_row8\" class=\"row_heading level0 row8\" >8</th>\n",
              "      <td id=\"T_97502_row8_col0\" class=\"data row8 col0\" >0.113494</td>\n",
              "      <td id=\"T_97502_row8_col1\" class=\"data row8 col1\" >0.381305</td>\n",
              "      <td id=\"T_97502_row8_col2\" class=\"data row8 col2\" >2.006529</td>\n",
              "      <td id=\"T_97502_row8_col3\" class=\"data row8 col3\" >0.276725</td>\n",
              "    </tr>\n",
              "    <tr>\n",
              "      <th id=\"T_97502_level0_row9\" class=\"row_heading level0 row9\" >9</th>\n",
              "      <td id=\"T_97502_row9_col0\" class=\"data row9 col0\" >0.303077</td>\n",
              "      <td id=\"T_97502_row9_col1\" class=\"data row9 col1\" >0.027735</td>\n",
              "      <td id=\"T_97502_row9_col2\" class=\"data row9 col2\" >-2.242745</td>\n",
              "      <td id=\"T_97502_row9_col3\" class=\"data row9 col3\" >-1.344769</td>\n",
              "    </tr>\n",
              "  </tbody>\n",
              "</table>\n"
            ]
          },
          "metadata": {},
          "execution_count": 5
        }
      ]
    },
    {
      "cell_type": "markdown",
      "source": [
        "#**13.Write a Pandas program to detect missing values of a given DataFrame. Display True or False.**"
      ],
      "metadata": {
        "id": "Xb9_U58VBy0q"
      }
    },
    {
      "cell_type": "code",
      "source": [
        "import pandas as pd\n",
        "import numpy as np\n",
        "df = pd.read_csv('/content/drive/MyDrive/Query datasets/order.csv')\n",
        "missing_values = df.isnull()\n",
        "print(missing_values)\n"
      ],
      "metadata": {
        "colab": {
          "base_uri": "https://localhost:8080/"
        },
        "id": "9gW4575CAJdE",
        "outputId": "7598ea77-69a6-406e-d38c-f38d8e63356d"
      },
      "execution_count": 6,
      "outputs": [
        {
          "output_type": "stream",
          "name": "stdout",
          "text": [
            "    ord_no  purch_amt  ord_date  customer_id  salesman_id\n",
            "0    False      False     False        False        False\n",
            "1     True      False     False        False        False\n",
            "2    False      False      True        False        False\n",
            "3    False      False     False        False         True\n",
            "4     True      False     False        False        False\n",
            "5    False      False     False        False        False\n",
            "6     True      False     False        False        False\n",
            "7    False      False     False        False         True\n",
            "8    False      False     False        False        False\n",
            "9    False      False     False        False        False\n",
            "10    True      False     False        False        False\n",
            "11   False      False     False        False         True\n"
          ]
        }
      ]
    },
    {
      "cell_type": "markdown",
      "source": [
        "#**14. Write a Pandas program to find and replace the missing values in a given DataFrame which do not have any valuable information.**\n"
      ],
      "metadata": {
        "id": "igEpcGroBr75"
      }
    },
    {
      "cell_type": "code",
      "source": [
        "import pandas as pd\n",
        "import numpy as np\n",
        "df = pd.read_csv('/content/drive/MyDrive/Query datasets/order.csv')\n",
        "fill_values = df.fillna(0)\n",
        "print(fill_values)"
      ],
      "metadata": {
        "colab": {
          "base_uri": "https://localhost:8080/"
        },
        "id": "cOTY-qLAAVTi",
        "outputId": "3194187b-7da8-41a8-f1f6-701dc6e2786e"
      },
      "execution_count": 7,
      "outputs": [
        {
          "output_type": "stream",
          "name": "stdout",
          "text": [
            "     ord_no  purch_amt    ord_date  customer_id  salesman_id\n",
            "0   70001.0     150.50  2012-10-05         3002       5002.0\n",
            "1       0.0     270.65  2012-09-10         3001       5003.0\n",
            "2   70002.0      65.26           0         3001       5001.0\n",
            "3   70004.0     110.50  2012-08-17         3003          0.0\n",
            "4       0.0     948.50  2012-09-10         3002       5002.0\n",
            "5   70005.0    2400.60  2012-07-27         3001       5001.0\n",
            "6       0.0    5760.00  2012-09-10         3001       5001.0\n",
            "7   70010.0    1983.43  2012-10-10         3004          0.0\n",
            "8   70003.0    2480.40  2012-10-10         3003       5003.0\n",
            "9   70012.0     250.45  2012-06-27         3002       5002.0\n",
            "10      0.0      75.29  2012-08-17         3001       5003.0\n",
            "11  70013.0    3045.60  2012-04-25         3001          0.0\n"
          ]
        }
      ]
    },
    {
      "cell_type": "markdown",
      "source": [
        "#**15.Write a Pandas program to keep the rows with at least 2 NaN values in a given DataFrame.**\n"
      ],
      "metadata": {
        "id": "jMI5zBtMBjso"
      }
    },
    {
      "cell_type": "code",
      "source": [
        "import pandas as pd\n",
        "import numpy as np\n",
        "df = pd.read_csv('/content/drive/MyDrive/Query datasets/customer.csv')\n",
        "nan_values = df.isna().sum(axis=1)\n",
        "df = df[nan_values >= 2]\n",
        "print(df)\n"
      ],
      "metadata": {
        "colab": {
          "base_uri": "https://localhost:8080/"
        },
        "id": "JBCLzFLHAb0C",
        "outputId": "b5ff2ec9-e229-4dd8-f87e-08112340350c"
      },
      "execution_count": 8,
      "outputs": [
        {
          "output_type": "stream",
          "name": "stdout",
          "text": [
            "    ord_no  purch_amt ord_date  customer_id\n",
            "0      NaN        NaN      NaN          NaN\n",
            "3      NaN        NaN      NaN          NaN\n",
            "11     NaN        NaN      NaN          NaN\n"
          ]
        }
      ]
    },
    {
      "cell_type": "markdown",
      "source": [
        "#**16 Write a Pandas program to split the following dataframe into groups based on school code. Also check the type of GroupBy object.**"
      ],
      "metadata": {
        "id": "-qAEb6P2BP4T"
      }
    },
    {
      "cell_type": "code",
      "source": [
        "import pandas as pd\n",
        "import numpy as np\n",
        "df = pd.read_csv('/content/drive/MyDrive/Query datasets/school.csv')\n",
        "grouped = df.groupby('school')\n",
        "print(grouped)"
      ],
      "metadata": {
        "colab": {
          "base_uri": "https://localhost:8080/"
        },
        "id": "yQw9lWyrAqDX",
        "outputId": "989156b2-dc0c-4f67-f4e0-262e2867a52a"
      },
      "execution_count": 9,
      "outputs": [
        {
          "output_type": "stream",
          "name": "stdout",
          "text": [
            "<pandas.core.groupby.generic.DataFrameGroupBy object at 0x7e43d6cd3910>\n"
          ]
        }
      ]
    }
  ]
}